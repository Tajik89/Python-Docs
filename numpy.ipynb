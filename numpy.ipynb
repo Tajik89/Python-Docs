{
 "cells": [
  {
   "cell_type": "code",
   "execution_count": 2,
   "id": "971e80ae-64b4-4def-a7ca-e5fc15f6a322",
   "metadata": {},
   "outputs": [],
   "source": [
    "import numpy as np"
   ]
  },
  {
   "cell_type": "code",
   "execution_count": 3,
   "id": "3ecacabf-e05f-4533-99fd-3e7ce3c3f9ab",
   "metadata": {},
   "outputs": [
    {
     "name": "stdout",
     "output_type": "stream",
     "text": [
      "[12 20  5 18]\n"
     ]
    }
   ],
   "source": [
    "score = np.array([12, 20, 5, 18])\n",
    "print(score)"
   ]
  },
  {
   "cell_type": "code",
   "execution_count": 4,
   "id": "f4f9ab44-667b-4a1a-b4de-e489605d63b4",
   "metadata": {},
   "outputs": [
    {
     "name": "stdout",
     "output_type": "stream",
     "text": [
      "1\n",
      "(4,)\n"
     ]
    }
   ],
   "source": [
    "print(score.ndim) # 1\n",
    "print(score.shape) # (4, )"
   ]
  },
  {
   "cell_type": "code",
   "execution_count": 5,
   "id": "4f186836-2f8b-4409-ad84-7dc08bca7da7",
   "metadata": {},
   "outputs": [
    {
     "name": "stdout",
     "output_type": "stream",
     "text": [
      "[ 5 12 18 20]\n"
     ]
    }
   ],
   "source": [
    "s = np.sort(score)\n",
    "print(s)"
   ]
  },
  {
   "cell_type": "code",
   "execution_count": 6,
   "id": "c7f49058-8d2b-470a-92d6-0e7a94d8b81f",
   "metadata": {},
   "outputs": [
    {
     "name": "stdout",
     "output_type": "stream",
     "text": [
      "[12 20  5 18]\n"
     ]
    }
   ],
   "source": [
    "print(score)"
   ]
  },
  {
   "cell_type": "code",
   "execution_count": 7,
   "id": "fda6d1bb-11ba-4ce1-b9f1-ee9a18623215",
   "metadata": {},
   "outputs": [],
   "source": [
    "uscore = np.unique(score)"
   ]
  },
  {
   "cell_type": "code",
   "execution_count": 8,
   "id": "a91fbf37-3728-4c39-81b8-1a9c79119b47",
   "metadata": {},
   "outputs": [
    {
     "data": {
      "text/plain": [
       "array([ 5, 12, 18, 20])"
      ]
     },
     "execution_count": 8,
     "metadata": {},
     "output_type": "execute_result"
    }
   ],
   "source": [
    "uscore"
   ]
  },
  {
   "cell_type": "code",
   "execution_count": 9,
   "id": "591f351e-d4f2-4829-b035-bc22a5540429",
   "metadata": {},
   "outputs": [
    {
     "name": "stdout",
     "output_type": "stream",
     "text": [
      "[ 6.  10.   2.5  9. ]\n"
     ]
    }
   ],
   "source": [
    "x = score / 2\n",
    "print(x)"
   ]
  },
  {
   "cell_type": "code",
   "execution_count": 10,
   "id": "ad84aad4-4b73-4790-b624-46c0857ad05b",
   "metadata": {},
   "outputs": [
    {
     "name": "stdout",
     "output_type": "stream",
     "text": [
      "[ 6.  10.   2.5  9. ] [12 20  5 18]\n"
     ]
    }
   ],
   "source": [
    "print(x, score, end= '\\n')"
   ]
  },
  {
   "cell_type": "code",
   "execution_count": 11,
   "id": "bf0cd343-edf1-405b-937b-5e9466064e22",
   "metadata": {},
   "outputs": [
    {
     "data": {
      "text/plain": [
       "55"
      ]
     },
     "execution_count": 11,
     "metadata": {},
     "output_type": "execute_result"
    }
   ],
   "source": [
    "np.sum(score)"
   ]
  },
  {
   "cell_type": "code",
   "execution_count": 12,
   "id": "1d5715b8-6c45-417d-8b01-aa0430fe6346",
   "metadata": {},
   "outputs": [
    {
     "name": "stdout",
     "output_type": "stream",
     "text": [
      "[20 20 10 20]\n"
     ]
    }
   ],
   "source": [
    "score_2 = np.where(score < 10, 10, 20)\n",
    "print(score_2)"
   ]
  },
  {
   "cell_type": "code",
   "execution_count": 13,
   "id": "c314bd21-9116-4273-b487-5630014aad7b",
   "metadata": {},
   "outputs": [
    {
     "name": "stdout",
     "output_type": "stream",
     "text": [
      "(array([0]),)\n",
      "[12 20  5 18]\n"
     ]
    }
   ],
   "source": [
    "print(np.where(score == 12))\n",
    "print(score)"
   ]
  },
  {
   "cell_type": "code",
   "execution_count": 14,
   "id": "eae35ab4-eb2a-4ff7-8109-9e7ef9b50401",
   "metadata": {},
   "outputs": [
    {
     "name": "stdout",
     "output_type": "stream",
     "text": [
      "(array([0, 1, 3]),)\n"
     ]
    }
   ],
   "source": [
    "print(np.where(score%2 == 0))"
   ]
  },
  {
   "cell_type": "code",
   "execution_count": 15,
   "id": "b881cba2-5c18-40d4-a5df-a36821502059",
   "metadata": {},
   "outputs": [
    {
     "name": "stdout",
     "output_type": "stream",
     "text": [
      "[12 20  5 18]\n",
      "[12 20  5 18]\n"
     ]
    }
   ],
   "source": [
    "score_copy = score.copy()\n",
    "print(score_copy)\n",
    "print(score)"
   ]
  },
  {
   "cell_type": "code",
   "execution_count": 16,
   "id": "765f32a2-6f6d-40b9-989a-23ca8acfcb10",
   "metadata": {},
   "outputs": [
    {
     "name": "stdout",
     "output_type": "stream",
     "text": [
      "[12 20  5 18]\n"
     ]
    }
   ],
   "source": [
    "score[2] = 5\n",
    "print(score) # [5, 12, 5, 20]"
   ]
  },
  {
   "cell_type": "code",
   "execution_count": 17,
   "id": "52577d64-9948-4384-a24d-49feb1079995",
   "metadata": {},
   "outputs": [
    {
     "name": "stdout",
     "output_type": "stream",
     "text": [
      "[12 20  5 18]\n"
     ]
    }
   ],
   "source": [
    "print(score_copy)"
   ]
  },
  {
   "cell_type": "code",
   "execution_count": 18,
   "id": "14cc00a3-896c-4619-97ac-f0905a98c716",
   "metadata": {},
   "outputs": [
    {
     "name": "stdout",
     "output_type": "stream",
     "text": [
      "[12 20  5 18]\n",
      "[12 20  5 18]\n"
     ]
    }
   ],
   "source": [
    "score_view = score.view()\n",
    "print(score)\n",
    "print(score_view)"
   ]
  },
  {
   "cell_type": "code",
   "execution_count": 19,
   "id": "3fc48d4b-cd36-4d7b-9531-b40567bb451a",
   "metadata": {},
   "outputs": [
    {
     "name": "stdout",
     "output_type": "stream",
     "text": [
      "[12 20 18 18]\n",
      "[12 20 18 18]\n"
     ]
    }
   ],
   "source": [
    "score[2] = 18\n",
    "print(score)\n",
    "print(score_view)"
   ]
  },
  {
   "cell_type": "code",
   "execution_count": 20,
   "id": "81eddc4e-dffa-4a4d-bdf2-12ca97c3577a",
   "metadata": {},
   "outputs": [
    {
     "name": "stdout",
     "output_type": "stream",
     "text": [
      "1\n"
     ]
    }
   ],
   "source": [
    "score_15_sort = np.searchsorted(score, 15)\n",
    "print(score_15_sort)"
   ]
  },
  {
   "cell_type": "code",
   "execution_count": 21,
   "id": "f84cfe33-fce3-42b5-87f6-6fecfff5c332",
   "metadata": {},
   "outputs": [
    {
     "name": "stdout",
     "output_type": "stream",
     "text": [
      "[12 18]\n"
     ]
    }
   ],
   "source": [
    "lst_a = [12, 9, 18]\n",
    "arr_a = np.array(lst_a)\n",
    "filt_a = [True, False, True]\n",
    "print(arr_a[filt_a])"
   ]
  },
  {
   "cell_type": "code",
   "execution_count": 22,
   "id": "3c139dbd-81ef-4d0b-b937-7688cdb1a57c",
   "metadata": {},
   "outputs": [
    {
     "name": "stdout",
     "output_type": "stream",
     "text": [
      "[0. 0. 0.]\n",
      "[20 20 20]\n",
      "[0 1 2]\n",
      "[0.15686045 0.55010207 0.85584933]\n"
     ]
    }
   ],
   "source": [
    "print(np.zeros(3)) # [0, 0, 0]\n",
    "print(np.full(3, 20)) # [20, 20, 20]\n",
    "print(np.arange(3)) # [0, 1, 2]\n",
    "print(np.random.rand(3)) # [0 < 1, ..., ...]"
   ]
  },
  {
   "cell_type": "code",
   "execution_count": 23,
   "id": "0c374641-5b2d-4b77-ba57-698436134e99",
   "metadata": {},
   "outputs": [
    {
     "name": "stdout",
     "output_type": "stream",
     "text": [
      "[1 2 3 4 5 6]\n"
     ]
    }
   ],
   "source": [
    "a = np.array([1, 2, 3])\n",
    "b = np.array([4, 5, 6])\n",
    "tuple_ab = (a, b)\n",
    "c = np.concatenate(tuple_ab)\n",
    "print(c)"
   ]
  },
  {
   "cell_type": "code",
   "execution_count": 24,
   "id": "e7af18ad-d10f-46a4-b679-a8524f55bb62",
   "metadata": {},
   "outputs": [
    {
     "name": "stdout",
     "output_type": "stream",
     "text": [
      "1\n",
      "(6,)\n"
     ]
    }
   ],
   "source": [
    "print(c.ndim) # 1\n",
    "print(c.shape) # (6, )"
   ]
  },
  {
   "cell_type": "code",
   "execution_count": 25,
   "id": "1aa0008f-0d07-4823-b1a4-f6a896dbe6ff",
   "metadata": {},
   "outputs": [
    {
     "name": "stdout",
     "output_type": "stream",
     "text": [
      "[array([1, 2, 3]), array([4, 5, 6])]\n"
     ]
    }
   ],
   "source": [
    "b = np.array_split(c, 2)\n",
    "print(b)"
   ]
  },
  {
   "cell_type": "code",
   "execution_count": 26,
   "id": "94cb346e-69c8-4117-9450-e5a8c6561e07",
   "metadata": {},
   "outputs": [
    {
     "name": "stdout",
     "output_type": "stream",
     "text": [
      "1\n",
      "6\n"
     ]
    }
   ],
   "source": [
    "print(b[0][0]) # 1\n",
    "print(b[1][2]) # 6"
   ]
  },
  {
   "cell_type": "code",
   "execution_count": 27,
   "id": "cced6062-a485-443c-a34b-9700d6452b96",
   "metadata": {},
   "outputs": [
    {
     "name": "stdout",
     "output_type": "stream",
     "text": [
      "[[1 2 3]\n",
      " [4 5 6]\n",
      " [7 8 9]]\n"
     ]
    }
   ],
   "source": [
    "score = np.array([[1, 2, 3], [4, 5, 6], [7, 8, 9]])\n",
    "print(score)"
   ]
  },
  {
   "cell_type": "code",
   "execution_count": 28,
   "id": "9d35f46d-a552-4ebf-b6da-12787e050113",
   "metadata": {},
   "outputs": [
    {
     "name": "stdout",
     "output_type": "stream",
     "text": [
      "2\n",
      "(3, 3)\n"
     ]
    }
   ],
   "source": [
    "print(score.ndim) # 2\n",
    "print(score.shape) # (3, 2)"
   ]
  },
  {
   "cell_type": "code",
   "execution_count": 29,
   "id": "594f56b4-7d51-48bf-b9c7-fd1ef421acb4",
   "metadata": {},
   "outputs": [
    {
     "name": "stdout",
     "output_type": "stream",
     "text": [
      "[[1 2 3]\n",
      " [4 5 6]\n",
      " [7 8 9]]\n"
     ]
    }
   ],
   "source": [
    "a = score\n",
    "print(a)"
   ]
  },
  {
   "cell_type": "code",
   "execution_count": 30,
   "id": "e0727080-3686-4dc1-8485-1f5d3a2b3168",
   "metadata": {},
   "outputs": [
    {
     "name": "stdout",
     "output_type": "stream",
     "text": [
      "[1 2 3] 1 5 9 3 7 [2 3] [5 6]\n"
     ]
    }
   ],
   "source": [
    "print(\n",
    "a[0], # [1, 2, 3]\n",
    "a[0][0], # [1]\n",
    "a[1][1], # [5]\n",
    "a[-1][-1], # [9]\n",
    "a[0][-1], # [3]\n",
    "a[-1][0], # [7]\n",
    "a[0, 1:3], # [2, 3]\n",
    "a[1, 1:4], # [5, 6]\n",
    ")"
   ]
  },
  {
   "cell_type": "code",
   "execution_count": 31,
   "id": "994c2a16-2ded-405e-b250-4be9d8832622",
   "metadata": {},
   "outputs": [
    {
     "name": "stdout",
     "output_type": "stream",
     "text": [
      "[1 2 3 4] \n",
      "\n",
      "[[1 2]\n",
      " [3 4]]\n"
     ]
    }
   ],
   "source": [
    "a = np.array([1, 2, 3, 4])\n",
    "b = a.reshape(2, 2)\n",
    "print(a, '\\n')\n",
    "print(b)"
   ]
  },
  {
   "cell_type": "code",
   "execution_count": 32,
   "id": "8624e9a2-2b32-42d6-9e48-dd7fc9dc7bc6",
   "metadata": {},
   "outputs": [
    {
     "data": {
      "text/plain": [
       "array([[1, 2, 3],\n",
       "       [4, 5, 6],\n",
       "       [7, 8, 9]])"
      ]
     },
     "execution_count": 32,
     "metadata": {},
     "output_type": "execute_result"
    }
   ],
   "source": [
    "score"
   ]
  },
  {
   "cell_type": "code",
   "execution_count": 33,
   "id": "b69f5194-3c75-4080-96f6-94bee2aa3da8",
   "metadata": {},
   "outputs": [
    {
     "name": "stdout",
     "output_type": "stream",
     "text": [
      "45\n"
     ]
    },
    {
     "data": {
      "text/plain": [
       "'\\n[[6]\\n [15]\\n [24]]\\n'"
      ]
     },
     "execution_count": 33,
     "metadata": {},
     "output_type": "execute_result"
    }
   ],
   "source": [
    "print(np.sum(score))\n",
    "np.sum(score, axis= 1)\n",
    "\"\"\"\n",
    "[[6]\n",
    " [15]\n",
    " [24]]\n",
    "\"\"\""
   ]
  },
  {
   "cell_type": "code",
   "execution_count": 42,
   "id": "42facb2e-0351-45e7-9044-511fa9ffc8d2",
   "metadata": {},
   "outputs": [
    {
     "name": "stdout",
     "output_type": "stream",
     "text": [
      "[[17 62 17 28]\n",
      " [94 23 83  5]\n",
      " [35 10 77 86]] \n",
      "\n",
      "[146  95 177 119]\n"
     ]
    }
   ],
   "source": [
    "a = np.random.randint(0, 100, size= (3, 4))\n",
    "print(a, '\\n')\n",
    "print(np.sum(a, axis= 0))"
   ]
  },
  {
   "cell_type": "code",
   "execution_count": 48,
   "id": "7f18410e-9591-42ea-bd40-9b169f62ac9f",
   "metadata": {},
   "outputs": [
    {
     "name": "stdout",
     "output_type": "stream",
     "text": [
      "[[ 8 37 12 63]\n",
      " [73 51 44 24]\n",
      " [62 51 43 87]\n",
      " [79 36 57 72]\n",
      " [79  8 16 80]\n",
      " [21 12 85  3]] \n",
      "\n",
      "[[ 8 37 12 63]\n",
      " [73 51 44 24]\n",
      " [62 51 43 87]\n",
      " [79 36 57 72]\n",
      " [79  8 16 80]\n",
      " [21 12 85  3]] \n",
      "\n",
      "[[ 8 37 12 63 79 36 57 72]\n",
      " [73 51 44 24 79  8 16 80]\n",
      " [62 51 43 87 21 12 85  3]] \n",
      "\n"
     ]
    }
   ],
   "source": [
    "a = np.random.randint(0, 100, size= (3, 4))\n",
    "b = np.random.randint(0, 100, size= (3, 4))\n",
    "print(np.concatenate((a, b)), '\\n')\n",
    "print(np.concatenate((a, b), axis= 0), '\\n')\n",
    "print(np.concatenate((a, b), axis= 1), '\\n')"
   ]
  },
  {
   "cell_type": "code",
   "execution_count": 54,
   "id": "57ae8771-8b8a-478a-baac-e819161c6463",
   "metadata": {},
   "outputs": [
    {
     "name": "stdout",
     "output_type": "stream",
     "text": [
      "[[ 8 14 52]\n",
      " [42 46  1]\n",
      " [60 49 43]\n",
      " [ 4 84 84]] \n",
      "\n",
      "[[ 8 42 60  4]\n",
      " [14 46 49 84]\n",
      " [52  1 43 84]]\n"
     ]
    }
   ],
   "source": [
    "a = np.random.randint(0, 100, size= (4, 3))\n",
    "print(a, '\\n')\n",
    "print(a.swapaxes(1, 0))"
   ]
  },
  {
   "cell_type": "code",
   "execution_count": null,
   "id": "e714db57-8b56-4f53-ad09-cc3ab2156862",
   "metadata": {},
   "outputs": [],
   "source": []
  }
 ],
 "metadata": {
  "kernelspec": {
   "display_name": "Python 3 (ipykernel)",
   "language": "python",
   "name": "python3"
  },
  "language_info": {
   "codemirror_mode": {
    "name": "ipython",
    "version": 3
   },
   "file_extension": ".py",
   "mimetype": "text/x-python",
   "name": "python",
   "nbconvert_exporter": "python",
   "pygments_lexer": "ipython3",
   "version": "3.12.4"
  }
 },
 "nbformat": 4,
 "nbformat_minor": 5
}
